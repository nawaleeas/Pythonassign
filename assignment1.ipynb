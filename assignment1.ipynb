{
  "nbformat": 4,
  "nbformat_minor": 0,
  "metadata": {
    "colab": {
      "provenance": []
    },
    "kernelspec": {
      "name": "python3",
      "display_name": "Python 3"
    },
    "language_info": {
      "name": "python"
    }
  },
  "cells": [
    {
      "cell_type": "markdown",
      "source": [
        "#BASIC QUESTIONS"
      ],
      "metadata": {
        "id": "CyITx3uhBP70"
      }
    },
    {
      "cell_type": "markdown",
      "source": [
        "#1. What is Python, and why is it popular?\n",
        "  - Python is one of the popular programming language as it is easy to understand which is used in various fields.\n",
        "  - Python works on different platforms with large libraries and frameworks.\n",
        "  - The simplicity of its syntax makes it easy to read with extensive features.\n",
        "\n",
        "#2. What is an interpreter in Python?\n",
        "   - Interpreter executes the code one line at a time, rather than compiling the entire program all at once.\n",
        "   - Basically interpreters converts the source code into intermediate code ,\n",
        "   it executes each line of statements slowly.\n",
        "   - The overall process of translation , execution is referred as interpretation.\n",
        "   \n",
        "#3.What are pre-defined keywords in Python?\n",
        "    - Pre-defined keywords basically referred as specific reserved words which have special meanings which Python interpreter uses to understand the structure of the code.\n",
        "    - The main rule to remember is that Python keywords cannot be used as identifiers such as var , fun.\n",
        "  Some keywords are False , None , True , and , as , assert , await , break , class , finally , for , from , else.\n",
        "\n",
        "#4. Can keywords be used as variable names?\n",
        "     - No , keywords cannot be used as variable names in Python as they are predefined , reserved words which holds special meanings with specific purpose.\n",
        "     - If we do so it will give clean syntax error.\n",
        "\n",
        "#5. What is mutability in Python?\n",
        "      - Mutability in Python refers to the ability of an object to be changed after it is created.\n",
        "      - Mutable objects can have their values modified in place, meaning their content can be changed without creating a new object. Some examples of mutable objects in Python includes lists , dictionaries and sets.\n",
        "      - Mutability affects how Python handles objects in memory and takes part in behavior when objects are passed to functions, used as dictionary keys.\n",
        "      - Mutability allows objects to be changed without needing to create a new object, which can be more efficient in terms of both time and memory.\n",
        "\n",
        "\n",
        "#6. Why are lists mutable, but tuples are immutable?\n",
        "      - Lists are mutable, meaning their contents can be modified after creation, while tuples are immutable, meaning once they are defined, their elements cannot be altered.\n",
        "      - Lists are mutable because they are designed to be flexible and support dynamic changes. They are typically used when you need to perform operations like adding, removing, or updating elements frequently.\n",
        "      - Tuples are immutable because they are intended to represent fixed collections of items that should not change after their creation.\n",
        "\n",
        "\n",
        "#7. What is the difference between “==” and “is” operators in Python?\n",
        "      - The \"==\" operator checks for value equality. It checks  whether the values of two objects are the same, regardless of whether the objects themselves are the same in memory. This operator calls the method of the objects involved, which defines how equality is determined based on their values. If the values are the same, == returns True ; otherwise, it returns False.\n",
        "      - The \"is\" operator checks for identity, meaning it determines whether two variables point to the same object in memory. It does not compare the values of the objects, but rather their memory identities. The expression x is y will return True if x and y refer to the same object in memory, and False if they refer to different objects, even if those objects have the same value.\n",
        "\n",
        "\n",
        "#8. What are logical operators in Python?\n",
        "       - logical operators are used to combine conditional statements ie True or False. These operators allow you to perform operations based on multiple conditions\n",
        "       Logical operators are fundamental for making decisions in programs and are often used in if statements, loops, and other control flow structures.\n",
        "       - The main logical operators in Python are,\n",
        "       1. and\n",
        "          Returns True if both conditions are True. Otherwise, it returns False.\n",
        "      2.  or\n",
        "          Returns True if at least one of the conditions is True. If both conditions are False, it returns False.\n",
        "      3.  not\n",
        "          Reverses the boolean value. It returns True if the condition is False, and False if the condition is True.\n",
        "\n",
        "\n",
        "#9. What is type casting in Python?\n",
        "    - Type casting in Python refers to the process of converting one data type into another. It allows you to convert values from one type such as integers, floats  to another depending on the context and operations you need to perform.\n",
        "    - There are 2 types of type casting in Python ie Implicit Type casting and Explicit Type casting.\n",
        "    \n",
        "\n",
        "#10. What is the difference between implicit and explicit type casting?\n",
        "  1. Implicit Type Casting\n",
        "    - Implicit type casting occurs when Python automatically converts one data type to another without any explicit instruction from the programmer. This happens when Python performs operations between different types, and it needs to convert one type into another to avoid errors.Here Python will convert from smaller data types to larger data types.\n",
        "    - It is also referred as automatic type conversion.\n",
        "    2. Explicit Type Casting\n",
        "    - Explicit type casting, also known as manual type conversion, occurs when you, as the programmer, explicitly specify how the conversion should process.\n",
        "    - It is also referred as Manual type conversion.\n",
        "\n",
        "\n",
        "#11. What is the purpose of conditional statements in Python?\n",
        " - Conditional statements in Python are used to control the flow of execution in a program based on certain conditions.\n",
        " - They allow the program to make decisions and perform different actions depending on whether a specified condition shows True or False.\n",
        " -  The  purpose of conditional statements is to enable decision-making and enable more dynamic, flexible behavior in a program.\n",
        "\n",
        "\n",
        "#12. How does the elif statement work?\n",
        "   - The elif statement in Python stands for \"else if\" and is used to check multiple conditions sequentially after an initial if statement.\n",
        "   - It allows you to test several conditions and execute different blocks of code based on which condition is True.\n",
        "   - If the condition of the if statement is False, Python will evaluate the conditions in the elif statements one by one, from top to bottom, and execute the code in the first elif block whose condition is True.\n",
        "  - If none of the if or\n",
        "   elif conditions evaluate to True, the program will execute the code inside the else block.\n",
        "\n",
        "\n",
        "#13. What is the difference between for and while loops?\n",
        " 1. for loop\n",
        "  - A for loop is used when you know the number of iterations or when you're iterating over a sequence.\n",
        "  - It is commonly used to iterate through the items of a collection or when you want to repeat an action a specific number of times.\n",
        "  SYNTAX\n",
        "  for var in iterable:\n",
        "    # statements\n",
        " 2. while Loop\n",
        "    - A while loop is used when you want to repeat an action as long as a condition is True.\n",
        "    - It is ideal when you do not know how many times you need to loop, but you know the condition that must be met to stop the loop.\n",
        "  SYNTAX\n",
        "  while expression:\n",
        "    #statements\n",
        "\n",
        "#14. Describe a scenario where a while loop is more suitable than a for loop?\n",
        " - A while loop is more suitable than a for loop when the number of iterations is not predetermined and depends on a condition that must be met during execution.\n",
        " - This makes it ideal for scenarios like user input validation, where the loop continues to prompt the user until they provide a valid response.\n",
        " - Since the number of attempts is unknown, a while loop is better suited for this kind of task, as it checks the condition continuously until it is satisfied.\n",
        " - Which means for loop requires a known number of iterations or a predefined iterable to loop over, making it less flexible in such cases.\n",
        "\n",
        "\n",
        "#PRACTICAL QUESTIONS\n",
        "\n",
        " #1. Write a Python program to print \"Hello, World!\n",
        "\n",
        "\n",
        "\n",
        "\n",
        "\n",
        "  \n",
        "\n",
        "\n",
        "\n",
        "\n",
        "   \n",
        "    "
      ],
      "metadata": {
        "id": "HgsGjm45wXtj"
      }
    },
    {
      "cell_type": "code",
      "source": [
        "  print(\"Hello,World!\")\n",
        ""
      ],
      "metadata": {
        "colab": {
          "base_uri": "https://localhost:8080/"
        },
        "id": "18XLIp26tzcx",
        "outputId": "ac21f578-45de-4c5b-afcb-53fcc01726f6"
      },
      "execution_count": 1,
      "outputs": [
        {
          "output_type": "stream",
          "name": "stdout",
          "text": [
            "Hello,World!\n"
          ]
        }
      ]
    },
    {
      "cell_type": "markdown",
      "source": [
        "#2. Write a Python program that displays your name and age."
      ],
      "metadata": {
        "id": "W7BubrzMuabe"
      }
    },
    {
      "cell_type": "code",
      "source": [
        "name = \"Anav\"\n",
        "age = 20\n",
        "\n",
        "print(\"Name :\", name)\n",
        "print(\"Age :\", age)"
      ],
      "metadata": {
        "colab": {
          "base_uri": "https://localhost:8080/"
        },
        "id": "YvfuUUXyuoYU",
        "outputId": "52f8a613-b4f6-4d71-f8aa-4e64dabb563c"
      },
      "execution_count": 2,
      "outputs": [
        {
          "output_type": "stream",
          "name": "stdout",
          "text": [
            "Name : Anav\n",
            "Age : 20\n"
          ]
        }
      ]
    },
    {
      "cell_type": "markdown",
      "source": [
        "#3. Write code to print all the pre-defined keywords in Python using the keyword library."
      ],
      "metadata": {
        "id": "JltnOe3wvclx"
      }
    },
    {
      "cell_type": "code",
      "source": [
        "import keyword\n",
        "\n",
        "print(keyword.kwlist)\n"
      ],
      "metadata": {
        "colab": {
          "base_uri": "https://localhost:8080/"
        },
        "id": "yNjFjCGCvoWX",
        "outputId": "d423f098-a929-45b1-9aea-874f58424ae8"
      },
      "execution_count": 3,
      "outputs": [
        {
          "output_type": "stream",
          "name": "stdout",
          "text": [
            "['False', 'None', 'True', 'and', 'as', 'assert', 'async', 'await', 'break', 'class', 'continue', 'def', 'del', 'elif', 'else', 'except', 'finally', 'for', 'from', 'global', 'if', 'import', 'in', 'is', 'lambda', 'nonlocal', 'not', 'or', 'pass', 'raise', 'return', 'try', 'while', 'with', 'yield']\n"
          ]
        }
      ]
    },
    {
      "cell_type": "markdown",
      "source": [
        "#4. Write a program that checks if a given word is a Python keyword."
      ],
      "metadata": {
        "id": "5Sl8fvSzwYfr"
      }
    },
    {
      "cell_type": "code",
      "source": [
        "import keyword\n",
        "\n",
        "word = input (\"Enter word to check if it is a python keyword: \")\n",
        "\n",
        "if keyword.iskeyword(word):\n",
        "\n",
        "  print(\" '{word}' is a Python keyword. \")\n",
        "\n",
        "else:\n",
        "\n",
        "    print(\"'{word}' is not a Python keyword. \")\n"
      ],
      "metadata": {
        "colab": {
          "base_uri": "https://localhost:8080/"
        },
        "id": "8y_Qh3R0xKxV",
        "outputId": "87610f78-2d40-4c9a-948c-5ba8f0a11429"
      },
      "execution_count": 6,
      "outputs": [
        {
          "output_type": "stream",
          "name": "stdout",
          "text": [
            "Enter word to check if it is a python keyword: break\n",
            " '{word}' is a Python keyword. \n"
          ]
        }
      ]
    },
    {
      "cell_type": "markdown",
      "source": [
        "#5. Create a list and tuple in Python, and demonstrate how attempting to change an element works differently for each."
      ],
      "metadata": {
        "id": "B3jhGdECy5yW"
      }
    },
    {
      "cell_type": "code",
      "source": [
        "my_list = [21, 22, 23, 24, 25]\n",
        "my_tuple = [21, 22, 23, 24, 25]\n",
        "\n",
        "print(\"Original list :\" , my_list)\n",
        "my_list[1] = 210\n",
        "print(\"Modified list :\" , my_list)\n",
        "\n",
        "print(\"Original tuple :\" , my_tuple)\n",
        "my_tuple[1] = 230\n",
        "print(\"Modified tuple :\" , my_tuple)"
      ],
      "metadata": {
        "colab": {
          "base_uri": "https://localhost:8080/"
        },
        "id": "N5hW9B7azGFD",
        "outputId": "88d28f5a-484a-4b1f-c2e1-8266047b1444"
      },
      "execution_count": 8,
      "outputs": [
        {
          "output_type": "stream",
          "name": "stdout",
          "text": [
            "Original list : [21, 22, 23, 24, 25]\n",
            "Modified list : [21, 210, 23, 24, 25]\n",
            "Original tuple : [21, 22, 23, 24, 25]\n",
            "Modified tuple : [21, 230, 23, 24, 25]\n"
          ]
        }
      ]
    },
    {
      "cell_type": "markdown",
      "source": [
        "#6. Write a function to demonstrate the behavior of mutable and immutable arguments."
      ],
      "metadata": {
        "id": "ZjRgkTXU1sRd"
      }
    },
    {
      "cell_type": "code",
      "source": [
        "def test_mutable_immutable(mutable, immutable):\n",
        "    mutable[0] = 99\n",
        "    print(\"Inside the function, mutable:\", mutable)\n",
        "\n",
        "    immutable = 100\n",
        "    print(\"Inside the function, immutable:\", immutable)\n",
        "\n",
        "mylist = [777, 820, 430]\n",
        "myint = 4569\n",
        "\n",
        "test_mutable_immutable(mylist, myint)\n",
        "\n",
        "print(\"Outside the function, mylist:\", mylist)\n",
        "print(\"Outside the function, myint:\", myint)\n"
      ],
      "metadata": {
        "colab": {
          "base_uri": "https://localhost:8080/"
        },
        "id": "iZB3czgt17vz",
        "outputId": "fe1e218e-9834-4b0a-9db7-7a1146a7443a"
      },
      "execution_count": 12,
      "outputs": [
        {
          "output_type": "stream",
          "name": "stdout",
          "text": [
            "Inside the function, mutable: [99, 820, 430]\n",
            "Inside the function, immutable: 100\n",
            "Outside the function, mylist: [99, 820, 430]\n",
            "Outside the function, myint: 4569\n"
          ]
        }
      ]
    },
    {
      "cell_type": "markdown",
      "source": [
        "#8.Write a program to demonstrate the use of logical operators.\n"
      ],
      "metadata": {
        "id": "aJ0bpXL_3UvW"
      }
    },
    {
      "cell_type": "code",
      "source": [
        "def demonstrate_logical_operators(a, b):\n",
        "\n",
        "    if a > 0 and b > 0:\n",
        "        print(\"Both a and b are positive.\")\n",
        "\n",
        "\n",
        "    if a > 0 or b > 0:\n",
        "        print(\"At least one of a or b is positive.\")\n",
        "\n",
        "\n",
        "    if not a == b:\n",
        "        print(\"a is not equal to b.\")\n",
        "\n",
        "\n",
        "a = 10\n",
        "b = -13\n",
        "demonstrate_logical_operators(a, b)\n",
        "\n",
        "a = -22\n",
        "b = -32\n",
        "demonstrate_logical_operators(a, b)\n"
      ],
      "metadata": {
        "colab": {
          "base_uri": "https://localhost:8080/"
        },
        "id": "h2q0HAO-3plK",
        "outputId": "04a386b7-3c31-4c51-fa03-5faabd6b8b5a"
      },
      "execution_count": 13,
      "outputs": [
        {
          "output_type": "stream",
          "name": "stdout",
          "text": [
            "At least one of a or b is positive.\n",
            "a is not equal to b.\n",
            "a is not equal to b.\n"
          ]
        }
      ]
    },
    {
      "cell_type": "markdown",
      "source": [
        "#9. Write a Python program to convert user input from string to integer, float, and boolean types."
      ],
      "metadata": {
        "id": "BXSK_amg4tzY"
      }
    },
    {
      "cell_type": "code",
      "source": [
        "\n",
        "user_input = input(\"Enter a value: \")\n",
        "\n",
        "try:\n",
        "    int_value = int(user_input)\n",
        "    print(\"Converted to integer:\", int_value)\n",
        "except ValueError:\n",
        "    print(\"Could not convert to integer.\")\n",
        "\n",
        "try:\n",
        "    float_value = float(user_input)\n",
        "    print(\"Converted to float:\", float_value)\n",
        "except ValueError:\n",
        "    print(\"Could not convert to float.\")\n",
        "\n",
        "boolean_value = user_input.strip().lower() in ['yes', '1', 'true', 't']\n",
        "print(\"Converted to boolean:\", boolean_value)\n",
        "\n"
      ],
      "metadata": {
        "colab": {
          "base_uri": "https://localhost:8080/"
        },
        "id": "1TD_UxQK6Qjs",
        "outputId": "05f10ec7-da7a-4248-e317-509ab3cd683a"
      },
      "execution_count": 18,
      "outputs": [
        {
          "output_type": "stream",
          "name": "stdout",
          "text": [
            "Enter a value: 545\n",
            "Converted to integer: 545\n",
            "Converted to float: 545.0\n",
            "Converted to boolean: False\n"
          ]
        }
      ]
    },
    {
      "cell_type": "markdown",
      "source": [
        "#10. Write code to demonstrate type casting with list elements."
      ],
      "metadata": {
        "id": "4xyO7IOz65xF"
      }
    },
    {
      "cell_type": "code",
      "source": [
        "\n",
        "list_of_strings = [\"200\", \"400\", \"600\", \"800\", \"1000\"]\n",
        "\n",
        "list_of_integers = [int(item) for item in list_of_strings]\n",
        "print(\"List of integers:\", list_of_integers)\n",
        "\n",
        "\n",
        "list_of_floats = [\"100.8\", \"200.2\", \"300.5\", \"400.3\"]\n",
        "\n",
        "list_of_floats_converted = [float(item) for item in list_of_floats]\n",
        "print(\"List of floats:\", list_of_floats_converted)\n",
        "\n",
        "\n",
        "list_of_numbers = [120, 220, 350, 440]\n",
        "\n",
        "list_of_strings_converted = [str(item) for item in list_of_numbers]\n",
        "print(\"List of strings:\", list_of_strings_converted)\n"
      ],
      "metadata": {
        "colab": {
          "base_uri": "https://localhost:8080/"
        },
        "id": "HsFKcSy17Ld9",
        "outputId": "bce432e0-2084-4964-e0de-2e52c6c62fd6"
      },
      "execution_count": 19,
      "outputs": [
        {
          "output_type": "stream",
          "name": "stdout",
          "text": [
            "List of integers: [200, 400, 600, 800, 1000]\n",
            "List of floats: [100.8, 200.2, 300.5, 400.3]\n",
            "List of strings: ['120', '220', '350', '440']\n"
          ]
        }
      ]
    },
    {
      "cell_type": "markdown",
      "source": [
        "#11. Write a program that checks if a number is positive, negative, or zero.\n",
        "\n"
      ],
      "metadata": {
        "id": "ptP6MxZT7zQZ"
      }
    },
    {
      "cell_type": "code",
      "source": [
        "\n",
        "number = float(input(\"Enter a number: \"))\n",
        "\n",
        "if number > 0:\n",
        "    print(\"The number is positive.\")\n",
        "elif number < 0:\n",
        "    print(\"The number is negative.\")\n",
        "else:\n",
        "    print(\"The number is zero.\")\n"
      ],
      "metadata": {
        "colab": {
          "base_uri": "https://localhost:8080/"
        },
        "id": "WIJRN4Wh8BMG",
        "outputId": "0279e088-e873-41ac-9ead-ae0421ae4929"
      },
      "execution_count": 21,
      "outputs": [
        {
          "output_type": "stream",
          "name": "stdout",
          "text": [
            "Enter a number: -5\n",
            "The number is negative.\n"
          ]
        }
      ]
    },
    {
      "cell_type": "markdown",
      "source": [
        "#12. Write a for loop to print numbers from 1 to 100."
      ],
      "metadata": {
        "id": "C84ufR758TiD"
      }
    },
    {
      "cell_type": "code",
      "source": [
        "\n",
        "for number in range(1, 101):\n",
        "    print(number)\n"
      ],
      "metadata": {
        "colab": {
          "base_uri": "https://localhost:8080/"
        },
        "id": "Wi_iMPBq8hBS",
        "outputId": "d2381ddb-c8d8-4721-ca3f-cd63c58b03cb"
      },
      "execution_count": 24,
      "outputs": [
        {
          "output_type": "stream",
          "name": "stdout",
          "text": [
            "1\n",
            "2\n",
            "3\n",
            "4\n",
            "5\n",
            "6\n",
            "7\n",
            "8\n",
            "9\n",
            "10\n",
            "11\n",
            "12\n",
            "13\n",
            "14\n",
            "15\n",
            "16\n",
            "17\n",
            "18\n",
            "19\n",
            "20\n",
            "21\n",
            "22\n",
            "23\n",
            "24\n",
            "25\n",
            "26\n",
            "27\n",
            "28\n",
            "29\n",
            "30\n",
            "31\n",
            "32\n",
            "33\n",
            "34\n",
            "35\n",
            "36\n",
            "37\n",
            "38\n",
            "39\n",
            "40\n",
            "41\n",
            "42\n",
            "43\n",
            "44\n",
            "45\n",
            "46\n",
            "47\n",
            "48\n",
            "49\n",
            "50\n",
            "51\n",
            "52\n",
            "53\n",
            "54\n",
            "55\n",
            "56\n",
            "57\n",
            "58\n",
            "59\n",
            "60\n",
            "61\n",
            "62\n",
            "63\n",
            "64\n",
            "65\n",
            "66\n",
            "67\n",
            "68\n",
            "69\n",
            "70\n",
            "71\n",
            "72\n",
            "73\n",
            "74\n",
            "75\n",
            "76\n",
            "77\n",
            "78\n",
            "79\n",
            "80\n",
            "81\n",
            "82\n",
            "83\n",
            "84\n",
            "85\n",
            "86\n",
            "87\n",
            "88\n",
            "89\n",
            "90\n",
            "91\n",
            "92\n",
            "93\n",
            "94\n",
            "95\n",
            "96\n",
            "97\n",
            "98\n",
            "99\n",
            "100\n"
          ]
        }
      ]
    },
    {
      "cell_type": "markdown",
      "source": [
        "#13. Write a Python program to find the sum of all even numbers between 1 and 500.\n"
      ],
      "metadata": {
        "id": "gQw3bPmW83kp"
      }
    },
    {
      "cell_type": "code",
      "source": [
        "\n",
        "sum_of_even_numbers = 0\n",
        "\n",
        "for number in range(1, 500):\n",
        "\n",
        "    if number % 2 == 0:\n",
        "        sum_of_even_numbers += number\n",
        "\n",
        "# Print the result\n",
        "print(\"The sum of all even numbers between 1 and 500 is:\", sum_of_even_numbers)\n"
      ],
      "metadata": {
        "colab": {
          "base_uri": "https://localhost:8080/"
        },
        "id": "vRBVPJDX9wHS",
        "outputId": "5d8fb34d-f0de-48ee-bbd1-be9b4d8d410d"
      },
      "execution_count": 26,
      "outputs": [
        {
          "output_type": "stream",
          "name": "stdout",
          "text": [
            "The sum of all even numbers between 1 and 500 is: 62250\n"
          ]
        }
      ]
    },
    {
      "cell_type": "markdown",
      "source": [
        "#14.Write a program to reverse a string using a while loop."
      ],
      "metadata": {
        "id": "ZI7Pohl6-R_T"
      }
    },
    {
      "cell_type": "code",
      "source": [
        "\n",
        "input_string = input(\"Enter a string: \")\n",
        "\n",
        "reversed_string = \"\"\n",
        "\n",
        "index = len(input_string) - 1\n",
        "\n",
        "\n",
        "while index >= 0:\n",
        "    reversed_string += input_string[index]\n",
        "    index -= 1\n",
        "\n",
        "print(\"Reversed string:\", reversed_string)\n"
      ],
      "metadata": {
        "colab": {
          "base_uri": "https://localhost:8080/"
        },
        "id": "noJlqEVb-isR",
        "outputId": "0d35c1b3-f3e5-40a3-db1a-14161cea93b9"
      },
      "execution_count": 27,
      "outputs": [
        {
          "output_type": "stream",
          "name": "stdout",
          "text": [
            "Enter a string: TRIGGERED\n",
            "Reversed string: DEREGGIRT\n"
          ]
        }
      ]
    },
    {
      "cell_type": "markdown",
      "source": [
        "#15.Write a Python program to calculate the factorial of a number provided by the user using a while loop."
      ],
      "metadata": {
        "id": "PAl7vM4T_De8"
      }
    },
    {
      "cell_type": "code",
      "source": [
        "\n",
        "number = int(input(\"Enter a number to calculate its factorial: \"))\n",
        "\n",
        "\n",
        "factorial = 1\n",
        "\n",
        "\n",
        "while number > 1:\n",
        "    factorial *= number\n",
        "    number -= 1\n",
        "\n",
        "print(\"The factorial is:\", factorial)\n"
      ],
      "metadata": {
        "colab": {
          "base_uri": "https://localhost:8080/"
        },
        "id": "L_HvH_BE_n17",
        "outputId": "f3bebdf2-f640-4002-b380-13174f1fcefb"
      },
      "execution_count": 29,
      "outputs": [
        {
          "output_type": "stream",
          "name": "stdout",
          "text": [
            "Enter a number to calculate its factorial: 10\n",
            "The factorial is: 3628800\n"
          ]
        }
      ]
    }
  ]
}